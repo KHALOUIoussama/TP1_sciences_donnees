{
 "cells": [
  {
   "attachments": {},
   "cell_type": "markdown",
   "metadata": {},
   "source": [
    "# IFT 799 - Science de données\n",
    "## TP 1 : Compréhension et visualisation des données"
   ]
  },
  {
   "attachments": {},
   "cell_type": "markdown",
   "metadata": {},
   "source": [
    "Travail réalisé par :\n",
    "- **ASSABAR Taoufik** --- *ajoutes ton cip ici stp*\n",
    "- **KHALOUI Oussama** --- *khao1201*"
   ]
  },
  {
   "cell_type": "code",
   "execution_count": 92,
   "metadata": {},
   "outputs": [],
   "source": [
    "import pandas as pd\n",
    "import numpy as np"
   ]
  },
  {
   "cell_type": "code",
   "execution_count": 48,
   "metadata": {},
   "outputs": [
    {
     "name": "stdout",
     "output_type": "stream",
     "text": [
      "         Class  gene_0    gene_1    gene_2    gene_3     gene_4  gene_5  \\\n",
      "sample_0  PRAD     0.0  2.017209  3.265527  5.478487  10.431999     0.0   \n",
      "sample_1  LUAD     0.0  0.592732  1.588421  7.586157   9.623011     0.0   \n",
      "sample_2  PRAD     0.0  3.511759  4.327199  6.881787   9.870730     0.0   \n",
      "sample_3  PRAD     0.0  3.663618  4.507649  6.659068  10.196184     0.0   \n",
      "sample_4  BRCA     0.0  2.655741  2.821547  6.539454   9.738265     0.0   \n",
      "sample_5  PRAD     0.0  3.467853  3.581918  6.620243   9.706829     0.0   \n",
      "sample_6  KIRC     0.0  1.224966  1.691177  6.572007   9.640511     0.0   \n",
      "sample_7  PRAD     0.0  2.854853  1.750478  7.226720   9.758691     0.0   \n",
      "sample_8  BRCA     0.0  3.992125  2.772730  6.546692  10.488252     0.0   \n",
      "sample_9  PRAD     0.0  3.642494  4.423558  6.849511   9.464466     0.0   \n",
      "\n",
      "            gene_6    gene_7  gene_8  ...  gene_20521  gene_20522  gene_20523  \\\n",
      "sample_0  7.175175  0.591871     0.0  ...    4.926711    8.210257    9.723516   \n",
      "sample_1  6.816049  0.000000     0.0  ...    4.593372    7.323865    9.740931   \n",
      "sample_2  6.972130  0.452595     0.0  ...    5.125213    8.127123   10.908640   \n",
      "sample_3  7.843375  0.434882     0.0  ...    6.076566    8.792959   10.141520   \n",
      "sample_4  6.566967  0.360982     0.0  ...    5.996032    8.891425   10.373790   \n",
      "sample_5  7.758510  0.000000     0.0  ...    5.726657    8.602588    9.928339   \n",
      "sample_6  6.754888  0.531868     0.0  ...    5.105904    7.927968    9.673966   \n",
      "sample_7  5.952103  0.000000     0.0  ...    5.297833    8.277092    9.599230   \n",
      "sample_8  7.690222  0.352307     0.0  ...    6.721974    9.597533    9.763753   \n",
      "sample_9  7.947216  0.724214     0.0  ...    6.020051    8.712809   10.259096   \n",
      "\n",
      "          gene_20524  gene_20525  gene_20526  gene_20527  gene_20528  \\\n",
      "sample_0    7.220030    9.119813   12.003135    9.650743    8.921326   \n",
      "sample_1    6.256586    8.381612   12.674552   10.517059    9.397854   \n",
      "sample_2    5.401607    9.911597    9.045255    9.788359   10.090470   \n",
      "sample_3    8.942805    9.601208   11.392682    9.694814    9.684365   \n",
      "sample_4    7.181162    9.846910   11.922439    9.217749    9.461191   \n",
      "sample_5    6.096154    9.816001   11.556995    9.244150    9.836473   \n",
      "sample_6    1.877744    9.802692   13.256060    9.664486    9.244219   \n",
      "sample_7    5.244290    9.994339   12.670377    9.987733    9.216872   \n",
      "sample_8    7.933278   10.952880   12.498919   10.389954   10.390255   \n",
      "sample_9    6.131583    9.923582   11.144295    9.244851    9.484299   \n",
      "\n",
      "          gene_20529  gene_20530  \n",
      "sample_0    5.286759         0.0  \n",
      "sample_1    2.094168         0.0  \n",
      "sample_2    1.683023         0.0  \n",
      "sample_3    3.292001         0.0  \n",
      "sample_4    5.110372         0.0  \n",
      "sample_5    5.355133         0.0  \n",
      "sample_6    8.330912         0.0  \n",
      "sample_7    6.551490         0.0  \n",
      "sample_8    7.828321         0.0  \n",
      "sample_9    4.759151         0.0  \n",
      "\n",
      "[10 rows x 20532 columns]\n"
     ]
    }
   ],
   "source": [
    "# Read CSV data from files\n",
    "df1 = pd.read_csv('labels.csv', index_col=0)\n",
    "df2 = pd.read_csv('data.csv', index_col=0)\n",
    "\n",
    "\n",
    "# Merge DataFrames based on index (sample names)\n",
    "merged_df = pd.merge(df1, df2, left_index=True, right_index=True)\n",
    "\n",
    "# Print the merged DataFrame\n",
    "print(merged_df.head(10))"
   ]
  },
  {
   "attachments": {},
   "cell_type": "markdown",
   "metadata": {},
   "source": [
    "Ce code est utilisé pour trouver la moyenne des classes"
   ]
  },
  {
   "cell_type": "code",
   "execution_count": 49,
   "metadata": {},
   "outputs": [
    {
     "name": "stdout",
     "output_type": "stream",
     "text": [
      "         gene_0    gene_1    gene_2    gene_3     gene_4  gene_5    gene_6  \\\n",
      "Class                                                                        \n",
      "BRCA   0.011362  2.839739  2.805759  6.692613  10.003743     0.0  7.503838   \n",
      "COAD   0.022212  3.438381  3.238618  7.830324   9.933747     0.0  7.292393   \n",
      "KIRC   0.046544  2.398129  2.447997  6.340925   9.446830     0.0  7.008021   \n",
      "LUAD   0.041088  3.358260  3.457701  6.625187   9.781486     0.0  7.283121   \n",
      "PRAD   0.026544  3.441041  3.971262  6.662433   9.752363     0.0  7.807088   \n",
      "\n",
      "         gene_7    gene_8    gene_9  ...  gene_20521  gene_20522  gene_20523  \\\n",
      "Class                                ...                                       \n",
      "BRCA   0.499902  0.021714  0.031654  ...    5.891983    9.004483   10.090170   \n",
      "COAD   0.509116  0.000000  0.000000  ...    5.473999    8.679328    9.966375   \n",
      "KIRC   0.645374  0.024824  0.000000  ...    6.431149    8.573289   10.037905   \n",
      "LUAD   0.393179  0.015985  0.000000  ...    5.557246    8.536567    9.966566   \n",
      "PRAD   0.448975  0.007497  0.009264  ...    5.926976    8.733751   10.145661   \n",
      "\n",
      "       gene_20524  gene_20525  gene_20526  gene_20527  gene_20528  gene_20529  \\\n",
      "Class                                                                           \n",
      "BRCA     6.214461    9.728951   11.748519   10.135163    9.774321    6.206215   \n",
      "COAD     0.695664    9.121327   12.215350   10.294870    9.352634    3.616018   \n",
      "KIRC     3.324251   10.072278   11.805309   10.204060    9.431097    5.099268   \n",
      "LUAD     4.767049    9.675499   11.788373    9.962015    9.394807    5.277331   \n",
      "PRAD     5.933344    9.841068   11.341440   10.267547    9.696780    5.849697   \n",
      "\n",
      "       gene_20530  \n",
      "Class              \n",
      "BRCA     0.073071  \n",
      "COAD     0.039924  \n",
      "KIRC     0.133671  \n",
      "LUAD     0.191586  \n",
      "PRAD     0.035729  \n",
      "\n",
      "[5 rows x 20531 columns]\n"
     ]
    }
   ],
   "source": [
    "# Groupez les données par classe\n",
    "grouped = merged_df.groupby('Class')\n",
    "\n",
    "# Calculez la moyenne pour chaque colonne\n",
    "means_per_class = grouped.mean()\n",
    "\n",
    "print(means_per_class)"
   ]
  },
  {
   "cell_type": "code",
   "execution_count": 88,
   "metadata": {},
   "outputs": [
    {
     "name": "stdout",
     "output_type": "stream",
     "text": [
      "           gene_0     gene_1     gene_2     gene_3      gene_4  gene_5  \\\n",
      "sample_4      0.0   7.052961   7.961127  42.764452   94.833797     0.0   \n",
      "sample_8      0.0  15.937061   7.688033  42.859180  110.003428     0.0   \n",
      "sample_10     0.0  12.194560  12.626458  51.146908  105.133149     0.0   \n",
      "\n",
      "              gene_6    gene_7  gene_8     gene_9  ...  gene_20521  \\\n",
      "sample_4   43.125060  0.130308     0.0   0.000000  ...   35.952395   \n",
      "sample_8   59.139507  0.124120     0.0  16.545405  ...   45.184936   \n",
      "sample_10  68.910891  0.000000     0.0   0.000000  ...   38.825437   \n",
      "\n",
      "           gene_20522  gene_20523  gene_20524  gene_20525  gene_20526  \\\n",
      "sample_4    79.057443  107.615510   51.569091   96.961638  142.144563   \n",
      "sample_8    92.112640   95.330882   62.936893  119.965570  156.222976   \n",
      "sample_10   82.113929  100.847012   43.297759   95.746312  153.359341   \n",
      "\n",
      "           gene_20527  gene_20528  gene_20529  gene_20530  \n",
      "sample_4    84.966903   89.514133   26.115898    0.000000  \n",
      "sample_8   107.951143  107.957398   61.282603    0.000000  \n",
      "sample_10   97.404255   80.851899   32.891617    0.797125  \n",
      "\n",
      "[3 rows x 20531 columns]\n"
     ]
    }
   ],
   "source": [
    "def puissance_2_df(dataframe):\n",
    "    df_au_carre = dataframe.iloc[:, 1:].pow(2) # On exclut la colonne 'Class'\n",
    "    return df_au_carre\n",
    "df_class = merged_df[merged_df['Class'] == 'BRCA']"
   ]
  },
  {
   "cell_type": "code",
   "execution_count": 103,
   "metadata": {},
   "outputs": [],
   "source": [
    "def distance_intra(Class, type_de_distance='euclidienne'):\n",
    "    \n",
    "    if Class not in ['BRCA', 'KIRC', 'LUAD', 'PRAD']:\n",
    "        return \"Class not found\"\n",
    "    if type_de_distance not in ['euclidienne', 'mahalanobis', 'cosinus']:\n",
    "        return \"Type de distance non reconnu\"\n",
    "    \n",
    "    df_class = merged_df[merged_df['Class'] == Class] # Sélectionnez les données de la classe choisie\n",
    "    means_for_selected_class = means_per_class.loc[Class]\n",
    "\n",
    "    \n",
    "    # Calculez la distance intra-classe\n",
    "    if type_de_distance == 'euclidienne':\n",
    "        df_distance = np.sqrt(abs((puissance_2_df(df_class) - (means_for_selected_class**2))))\n",
    "        df_distance_between_all_samples_of_class_and_center = df_distance.transpose().sum()\n",
    "        distance_max_entre_le_centre_et_un_patient = df_distance_between_all_samples_of_class_and_center.max()\n",
    "        return distance_max_entre_le_centre_et_un_patient"
   ]
  },
  {
   "cell_type": "code",
   "execution_count": null,
   "metadata": {},
   "outputs": [],
   "source": [
    "distance_intra('BRCA') # Il faut lancer la fonction avec 'BRCA', 'KIRC', 'LUAD' ou 'PRAD'"
   ]
  }
 ],
 "metadata": {
  "kernelspec": {
   "display_name": "Python 3",
   "language": "python",
   "name": "python3"
  },
  "language_info": {
   "codemirror_mode": {
    "name": "ipython",
    "version": 3
   },
   "file_extension": ".py",
   "mimetype": "text/x-python",
   "name": "python",
   "nbconvert_exporter": "python",
   "pygments_lexer": "ipython3",
   "version": "3.10.12"
  },
  "orig_nbformat": 4
 },
 "nbformat": 4,
 "nbformat_minor": 2
}
