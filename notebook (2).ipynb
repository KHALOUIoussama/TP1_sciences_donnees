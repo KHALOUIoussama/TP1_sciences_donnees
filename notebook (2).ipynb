{
  "nbformat": 4,
  "nbformat_minor": 0,
  "metadata": {
    "colab": {
      "provenance": []
    },
    "kernelspec": {
      "name": "python3",
      "display_name": "Python 3"
    },
    "language_info": {
      "name": "python"
    }
  },
  "cells": [
    {
      "cell_type": "code",
      "source": [
        "import pandas as pd\n",
        "import numpy as np"
      ],
      "metadata": {
        "id": "GHnE4-AavBQv"
      },
      "execution_count": 3,
      "outputs": []
    },
    {
      "cell_type": "code",
      "execution_count": 4,
      "metadata": {
        "id": "jCfqsss-uqp4"
      },
      "outputs": [],
      "source": [
        "# Read CSV data from files\n",
        "df1 = pd.read_csv('labels.csv', index_col=0)\n",
        "df2 = pd.read_csv('data.csv', index_col=0)"
      ]
    },
    {
      "cell_type": "code",
      "source": [
        "# Merge DataFrames based on index (sample names)\n",
        "merged_df = pd.merge(df1, df2, left_index=True, right_index=True)"
      ],
      "metadata": {
        "id": "rmzDTwgiuwhH"
      },
      "execution_count": 5,
      "outputs": []
    },
    {
      "cell_type": "code",
      "source": [
        "def euclidean_distance(df1, df2):\n",
        "    return np.sqrt(((df1 - df2) ** 2).sum())"
      ],
      "metadata": {
        "id": "L6Nte4Siuxj3"
      },
      "execution_count": 33,
      "outputs": []
    },
    {
      "cell_type": "code",
      "source": [
        "def mahalanobis_distance(df1, df2):\n",
        "    if df1.shape[0] == 1 or df2.shape[0] == 1:\n",
        "        return 0  # Distance nulle pour une classe avec un seul échantillon\n",
        "\n",
        "    cov_matrix = np.cov(df1, rowvar=False)\n",
        "\n",
        "    try:\n",
        "        np.linalg.cholesky(cov_matrix)\n",
        "    except np.linalg.LinAlgError:\n",
        "        return 0  # Retourner 0 si la matrice de covariance n'est pas définie positive\n",
        "\n",
        "    diff = df1 - df2\n",
        "    return np.sqrt(np.dot(np.dot(diff, np.linalg.inv(cov_matrix)), diff.T))\n"
      ],
      "metadata": {
        "id": "0_tr2pR7uze3"
      },
      "execution_count": 34,
      "outputs": []
    },
    {
      "cell_type": "code",
      "source": [
        "def cosine_distance(df1, df2):\n",
        "    return np.dot(df1, df2) / (np.linalg.norm(df1) * np.linalg.norm(df2))\n"
      ],
      "metadata": {
        "id": "iPfZzNfuu1WZ"
      },
      "execution_count": 35,
      "outputs": []
    },
    {
      "cell_type": "code",
      "source": [
        "def distance_intra(Class, type_de_distance='euclidienne'):\n",
        "\n",
        "    if Class not in merged_df['Class'].unique():\n",
        "        return \"Class not found\"\n",
        "    if type_de_distance not in ['euclidienne', 'mahalanobis', 'cosinus']:\n",
        "        return \"Type de distance non reconnu\"\n",
        "\n",
        "    df_class = merged_df[merged_df['Class'] == Class].iloc[:, 1:]\n",
        "\n",
        "    centre_de_la_classe = df_class.mean()\n",
        "\n",
        "    if type_de_distance == 'euclidienne':\n",
        "        dist_intra = df_class.apply(lambda x: euclidean_distance(x, centre_de_la_classe), axis=1)\n",
        "    elif type_de_distance == 'mahalanobis':\n",
        "        dist_intra = df_class.apply(lambda x: mahalanobis_distance(x, centre_de_la_classe), axis=1)\n",
        "    elif type_de_distance == 'cosinus':\n",
        "        dist_intra = df_class.apply(lambda x: cosine_distance(x, centre_de_la_classe), axis=1)\n",
        "\n",
        "    max_intra = dist_intra.max()\n",
        "\n",
        "    return max_intra\n"
      ],
      "metadata": {
        "id": "jaZXArS5u3Ui"
      },
      "execution_count": 36,
      "outputs": []
    },
    {
      "cell_type": "code",
      "source": [
        "def distance_inter(Class1, Class2, type_de_distance='euclidienne'):\n",
        "\n",
        "    if Class1 not in merged_df['Class'].unique() or Class2 not in merged_df['Class'].unique():\n",
        "        return \"Class not found\"\n",
        "    if type_de_distance not in ['euclidienne', 'mahalanobis', 'cosinus']:\n",
        "        return \"Type de distance non reconnu\"\n",
        "\n",
        "    df_class1 = merged_df[merged_df['Class'] == Class1].iloc[:, 1:]\n",
        "    df_class2 = merged_df[merged_df['Class'] == Class2].iloc[:, 1:]\n",
        "\n",
        "    centre_de_la_classe1 = df_class1.mean()\n",
        "    centre_de_la_classe2 = df_class2.mean()\n",
        "\n",
        "    if type_de_distance == 'euclidienne':\n",
        "        dist_inter = euclidean_distance(centre_de_la_classe1, centre_de_la_classe2)\n",
        "    elif type_de_distance == 'mahalanobis':\n",
        "        dist_inter = mahalanobis_distance(centre_de_la_classe1, centre_de_la_classe2)\n",
        "    elif type_de_distance == 'cosinus':\n",
        "        dist_inter = cosine_distance(centre_de_la_classe1, centre_de_la_classe2)\n",
        "\n",
        "    return dist_inter\n"
      ],
      "metadata": {
        "id": "pZ1wOMkau6Vx"
      },
      "execution_count": 37,
      "outputs": []
    },
    {
      "cell_type": "code",
      "source": [
        "def calculate_overlap(Class1, Class2, type_de_distance='euclidienne'):\n",
        "    dist_intra1 = distance_intra(Class1, type_de_distance)\n",
        "    dist_intra2 = distance_intra(Class2, type_de_distance)\n",
        "    dist_inter = distance_inter(Class1, Class2, type_de_distance)\n",
        "\n",
        "    if dist_inter == 0:\n",
        "        overlap = np.nan  # Évitez la division par zéro\n",
        "    else:\n",
        "        overlap = (dist_intra1 + dist_intra2) / (2 * dist_inter)\n",
        "\n",
        "    return dist_intra1, dist_inter, overlap\n"
      ],
      "metadata": {
        "id": "m5ABAvPZu8AO"
      },
      "execution_count": 40,
      "outputs": []
    },
    {
      "cell_type": "code",
      "source": [
        "# Obtenir la liste unique de toutes les classes\n",
        "classes = merged_df['Class'].unique()\n",
        "\n",
        "# Exemple d'utilisation pour calculer l'overlap entre toutes les classes pour chaque type de distance\n",
        "types_de_distance = ['euclidienne', 'mahalanobis', 'cosinus']\n",
        "\n",
        "for distance_type in types_de_distance:\n",
        "    print(f\"Type de distance : {distance_type}\")\n",
        "    for i in range(len(classes)):\n",
        "        for j in range(i + 1, len(classes)):\n",
        "            class1 = classes[i]\n",
        "            class2 = classes[j]\n",
        "            dist_intra1, dist_inter, overlap_value = calculate_overlap(class1, class2, distance_type)\n",
        "            print(f'Classes ({class1} et {class2})')\n",
        "            print(f'Distance intra-classe : {dist_intra1}')\n",
        "            print(f'Distance inter-classe : {dist_inter}')\n",
        "            print(f'Overlap : {overlap_value}')\n",
        "            print('-' * 30)\n"
      ],
      "metadata": {
        "colab": {
          "base_uri": "https://localhost:8080/"
        },
        "id": "rr1UYeyMu-hA",
        "outputId": "a198f8ee-6b37-4039-8cb8-0d2c16753fb8"
      },
      "execution_count": 42,
      "outputs": [
        {
          "output_type": "stream",
          "name": "stdout",
          "text": [
            "Type de distance : euclidienne\n",
            "Classes (PRAD et LUAD)\n",
            "Distance intra-classe : 239.5735886229157\n",
            "Distance inter-classe : 189.2993080817103\n",
            "Overlap : 1.3153543601019686\n",
            "------------------------------\n",
            "Classes (PRAD et BRCA)\n",
            "Distance intra-classe : 239.5735886229157\n",
            "Distance inter-classe : 169.03709953165458\n",
            "Overlap : 1.468707767016454\n",
            "------------------------------\n",
            "Classes (PRAD et KIRC)\n",
            "Distance intra-classe : 239.5735886229157\n",
            "Distance inter-classe : 233.49057187997073\n",
            "Overlap : 1.0914940588221385\n",
            "------------------------------\n",
            "Classes (PRAD et COAD)\n",
            "Distance intra-classe : 239.5735886229157\n",
            "Distance inter-classe : 225.6811423230833\n",
            "Overlap : 1.0968992447257282\n",
            "------------------------------\n",
            "Classes (LUAD et BRCA)\n",
            "Distance intra-classe : 258.41775187621124\n",
            "Distance inter-classe : 142.87497834593188\n",
            "Overlap : 1.8035921027319581\n",
            "------------------------------\n",
            "Classes (LUAD et KIRC)\n",
            "Distance intra-classe : 258.41775187621124\n",
            "Distance inter-classe : 197.57728310670484\n",
            "Overlap : 1.3375811706140979\n",
            "------------------------------\n",
            "Classes (LUAD et COAD)\n",
            "Distance intra-classe : 258.41775187621124\n",
            "Distance inter-classe : 182.02859823573831\n",
            "Overlap : 1.4117098009889815\n",
            "------------------------------\n",
            "Classes (BRCA et KIRC)\n",
            "Distance intra-classe : 256.9586133692332\n",
            "Distance inter-classe : 205.4121654277074\n",
            "Overlap : 1.2830110807817878\n",
            "------------------------------\n",
            "Classes (BRCA et COAD)\n",
            "Distance intra-classe : 256.9586133692332\n",
            "Distance inter-classe : 197.37561420514393\n",
            "Overlap : 1.2982454188583865\n",
            "------------------------------\n",
            "Classes (KIRC et COAD)\n",
            "Distance intra-classe : 270.1335553730274\n",
            "Distance inter-classe : 241.81521907875762\n",
            "Overlap : 1.0869020524819972\n",
            "------------------------------\n",
            "Type de distance : mahalanobis\n",
            "Classes (PRAD et LUAD)\n",
            "Distance intra-classe : 0\n",
            "Distance inter-classe : 0\n",
            "Overlap : nan\n",
            "------------------------------\n",
            "Classes (PRAD et BRCA)\n",
            "Distance intra-classe : 0\n",
            "Distance inter-classe : 0\n",
            "Overlap : nan\n",
            "------------------------------\n",
            "Classes (PRAD et KIRC)\n",
            "Distance intra-classe : 0\n",
            "Distance inter-classe : 0\n",
            "Overlap : nan\n",
            "------------------------------\n",
            "Classes (PRAD et COAD)\n",
            "Distance intra-classe : 0\n",
            "Distance inter-classe : 0\n",
            "Overlap : nan\n",
            "------------------------------\n",
            "Classes (LUAD et BRCA)\n",
            "Distance intra-classe : 0\n",
            "Distance inter-classe : 0\n",
            "Overlap : nan\n",
            "------------------------------\n",
            "Classes (LUAD et KIRC)\n",
            "Distance intra-classe : 0\n",
            "Distance inter-classe : 0\n",
            "Overlap : nan\n",
            "------------------------------\n",
            "Classes (LUAD et COAD)\n",
            "Distance intra-classe : 0\n",
            "Distance inter-classe : 0\n",
            "Overlap : nan\n",
            "------------------------------\n",
            "Classes (BRCA et KIRC)\n",
            "Distance intra-classe : 0\n",
            "Distance inter-classe : 0\n",
            "Overlap : nan\n",
            "------------------------------\n",
            "Classes (BRCA et COAD)\n",
            "Distance intra-classe : 0\n",
            "Distance inter-classe : 0\n",
            "Overlap : nan\n",
            "------------------------------\n",
            "Classes (KIRC et COAD)\n",
            "Distance intra-classe : 0\n",
            "Distance inter-classe : 0\n",
            "Overlap : nan\n",
            "------------------------------\n",
            "Type de distance : cosinus\n",
            "Classes (PRAD et LUAD)\n",
            "Distance intra-classe : 0.9973953766435404\n",
            "Distance inter-classe : 0.9847967971372148\n",
            "Overlap : 1.0113566565309196\n",
            "------------------------------\n",
            "Classes (PRAD et BRCA)\n",
            "Distance intra-classe : 0.9973953766435404\n",
            "Distance inter-classe : 0.9877876012993587\n",
            "Overlap : 1.0084301050945372\n",
            "------------------------------\n",
            "Classes (PRAD et KIRC)\n",
            "Distance intra-classe : 0.9973953766435404\n",
            "Distance inter-classe : 0.9768623558914238\n",
            "Overlap : 1.0202578841020173\n",
            "------------------------------\n",
            "Classes (PRAD et COAD)\n",
            "Distance intra-classe : 0.9973953766435404\n",
            "Distance inter-classe : 0.9781271714650425\n",
            "Overlap : 1.0186551520995555\n",
            "------------------------------\n",
            "Classes (LUAD et BRCA)\n",
            "Distance intra-classe : 0.994566215586563\n",
            "Distance inter-classe : 0.9913201167836035\n",
            "Overlap : 1.003409652664235\n",
            "------------------------------\n",
            "Classes (LUAD et KIRC)\n",
            "Distance intra-classe : 0.994566215586563\n",
            "Distance inter-classe : 0.9834690988623516\n",
            "Overlap : 1.0119656437639661\n",
            "------------------------------\n",
            "Classes (LUAD et COAD)\n",
            "Distance intra-classe : 0.994566215586563\n",
            "Distance inter-classe : 0.9858753171134356\n",
            "Overlap : 1.0092145373982027\n",
            "------------------------------\n",
            "Classes (BRCA et KIRC)\n",
            "Distance intra-classe : 0.9948341325352459\n",
            "Distance inter-classe : 0.9820080743112115\n",
            "Overlap : 1.0136076517748693\n",
            "------------------------------\n",
            "Classes (BRCA et COAD)\n",
            "Distance intra-classe : 0.9948341325352459\n",
            "Distance inter-classe : 0.9831049879136659\n",
            "Overlap : 1.0121947022963032\n",
            "------------------------------\n",
            "Classes (KIRC et COAD)\n",
            "Distance intra-classe : 0.9959076639178512\n",
            "Distance inter-classe : 0.9749557814306872\n",
            "Overlap : 1.0212057256561526\n",
            "------------------------------\n"
          ]
        }
      ]
    }
  ]
}